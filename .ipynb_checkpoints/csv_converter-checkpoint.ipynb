{
 "cells": [
  {
   "cell_type": "markdown",
   "metadata": {},
   "source": [
    "# Kasper's csv -> SQL converter"
   ]
  },
  {
   "cell_type": "markdown",
   "metadata": {
    "slideshow": {
     "slide_type": "slide"
    }
   },
   "source": [
    "# Coordinate convertion using pyproj"
   ]
  },
  {
   "cell_type": "code",
   "execution_count": 1,
   "metadata": {
    "slideshow": {
     "slide_type": "fragment"
    }
   },
   "outputs": [
    {
     "data": {
      "text/plain": [
       "'POINT (54.489456708350616 4.579419078407395)'"
      ]
     },
     "execution_count": 1,
     "metadata": {},
     "output_type": "execute_result"
    }
   ],
   "source": [
    "from pyproj import Proj, transform\n",
    "from re import sub\n",
    "\n",
    "inProj = Proj(init='EPSG:25832')\n",
    "outProj = Proj(init='epsg:4326')\n",
    "\n",
    "def transformer(x,y):\n",
    "    # point is on the form \"722942.66 6173097.7\"\n",
    "    ll = transform(inProj, outProj, x,y)\n",
    "    return str(ll[0])+' '+str(ll[1])\n",
    "\n",
    "def geom_transformer(geom):\n",
    "    reg_ex=\"([0-9.]+) ([0-9.]+)\" # pick out two numbers with a space inbetween\n",
    "    return sub(reg_ex, lambda m: transformer(m.group(2), m.group(1)), geom)\n",
    "\n",
    "geom_transformer(\"POINT (722942.66 6173097.7)\")"
   ]
  },
  {
   "cell_type": "markdown",
   "metadata": {
    "slideshow": {
     "slide_type": "slide"
    }
   },
   "source": [
    "# Converting to sql\n",
    "\n",
    "* Write a program that read the input format, and inserts data into the database\n",
    "* Write a program that read the input format, and creates a \"dump\" file (creates tables and insert statements).\n",
    "### I will do the latter - create a reader which creates sql output\n"
   ]
  },
  {
   "cell_type": "markdown",
   "metadata": {},
   "source": [
    "## Overall function"
   ]
  },
  {
   "cell_type": "code",
   "execution_count": 2,
   "metadata": {
    "slideshow": {
     "slide_type": "fragment"
    }
   },
   "outputs": [
    {
     "data": {
      "text/plain": [
       "{'sagsnr': 'INT',\n",
       " 'grave_art': 'VARCHAR(100)',\n",
       " 'bygherre': 'VARCHAR(100)',\n",
       " 'wkb_geometry': 'GEOMETRY NOT NULL SRID 4326'}"
      ]
     },
     "execution_count": 2,
     "metadata": {},
     "output_type": "execute_result"
    }
   ],
   "source": [
    "# import data as: wfs-kbhkort.kk.dk/k101/ows?service=WFS&version=1.0.0&request=GetFeature&typeName=k101:erhv_gravetilladelser_aktiv&outputFormat=csv\n",
    "import os\n",
    "import csv\n",
    "\n",
    "our_headers = {'sagsnr':'INT', \n",
    "               'grave_art':'VARCHAR(100)', \n",
    "               'bygherre':'VARCHAR(100)', \n",
    "               'wkb_geometry':'GEOMETRY NOT NULL SRID 4326'}\n",
    "\n",
    "def makeSQLFile(file_name, headers=our_headers):\n",
    "    cwd = os.getcwd() # current working directory\n",
    "    inputfile = open(f\"{cwd}/{file_name}.csv\",\"r\")\n",
    "    outputfile = open(f\"{cwd}/{file_name}.sql\", \"w+\")\n",
    "    table = createTable(file_name, headers)\n",
    "    inserts = makeInsertStatements(file_name, headers, inputfile, outputfile)\n",
    "    outputfile.write(table)\n",
    "    outputfile.write(inserts)\n",
    "    outputfile.close()\n",
    "    \n",
    "our_headers"
   ]
  },
  {
   "cell_type": "code",
   "execution_count": 3,
   "metadata": {
    "slideshow": {
     "slide_type": "slide"
    }
   },
   "outputs": [
    {
     "name": "stdout",
     "output_type": "stream",
     "text": [
      "created table digging\n",
      "drop table if exists digging;\n",
      "create table digging (\n",
      "\tsagsnr INT, \n",
      "\tgrave_art VARCHAR(100), \n",
      "\tbygherre VARCHAR(100), \n",
      "\twkb_geometry GEOMETRY NOT NULL SRID 4326,\n",
      "\tprimary key(sagsnr)\n",
      ");\n",
      "\n"
     ]
    }
   ],
   "source": [
    "def createTable(name, headers):\n",
    "    sql = f\"drop table if exists {name};\\n\"\n",
    "    sql += f\"create table {name} (\\n\"\n",
    "    sql += \", \\n\".join([f\"\\t{header} {sql_type}\" for header,sql_type in headers.items()])\n",
    "    sql += f\",\\n\\tprimary key({list(headers.keys())[0]})\\n);\\n\"\n",
    "    print(f'created table {name}')\n",
    "    return sql\n",
    "print(createTable('digging', our_headers))"
   ]
  },
  {
   "cell_type": "markdown",
   "metadata": {
    "slideshow": {
     "slide_type": "slide"
    }
   },
   "source": [
    "# Making the insert statements\n",
    "The format of an insert statement is:\n",
    "\n",
    "```mysql\n",
    "INSERT INTO table_name ( field1, field2,...fieldN )\n",
    "   VALUES\n",
    "   ( value1, value2,...valueN );\n",
    "```\n",
    "\n",
    "A minor issue is we read all values from the CSV file as text, but need to convert them to their sql type."
   ]
  },
  {
   "cell_type": "code",
   "execution_count": 4,
   "metadata": {
    "slideshow": {
     "slide_type": "slide"
    }
   },
   "outputs": [
    {
     "name": "stdout",
     "output_type": "stream",
     "text": [
      "77\n",
      "ST_GeomFromText(\"POINT (54.489456708350616 4.579419078407395)\", 4326)\n",
      "\"Fibernet\"\n"
     ]
    }
   ],
   "source": [
    "def valueOf(v, sql_type):\n",
    "    if sql_type == \"INT\":\n",
    "        return v\n",
    "    if sql_type[0:8] == \"GEOMETRY\":\n",
    "        c = geom_transformer(v) # This is where I convert from EPSG:25832' to 'epsg:4326'\n",
    "        return f'ST_GeomFromText(\"{c}\", 4326)'\n",
    "    return f'\"{v}\"'\n",
    "print( valueOf(77,'INT'))\n",
    "print( valueOf(\"POINT (722942.66 6173097.7)\", 'GEOMETRY NOT NULL SRID 4326') )\n",
    "print( valueOf('Fibernet', 'VARCHAR(100)'))"
   ]
  },
  {
   "cell_type": "markdown",
   "metadata": {
    "slideshow": {
     "slide_type": "slide"
    }
   },
   "source": [
    "# Making insert statements\n"
   ]
  },
  {
   "cell_type": "code",
   "execution_count": 5,
   "metadata": {
    "slideshow": {
     "slide_type": "fragment"
    }
   },
   "outputs": [],
   "source": [
    "def makeInsertStatements(name, headers, infile, outfile):\n",
    "    print(\"Writing inserts \",end='')\n",
    "    headerline = infile.readline()\n",
    "    csv_headers = headerline.rstrip().split(\",\")\n",
    "    headerIndex = { h : csv_headers.index(h) for h in headers.keys()}\n",
    "    sql = \"\"\n",
    "    csv_in = csv.reader(infile, delimiter=',', quotechar='\"')\n",
    "    for row in csv_in:\n",
    "        print('.',end='')\n",
    "        if row[-1] != \"\": # some positions are missing\n",
    "            sql_values = [valueOf(row[headerIndex[k]], headers[k]) for k in headers.keys()]\n",
    "            values_combined = ','.join(sql_values)\n",
    "            columns = ','.join(headers.keys())\n",
    "            sql += f\"INSERT INTO {name} ( {columns} ) VALUES ({values_combined});\\n\"\n",
    "    print(\"Done!\")\n",
    "    return sql"
   ]
  },
  {
   "cell_type": "code",
   "execution_count": 6,
   "metadata": {
    "slideshow": {
     "slide_type": "slide"
    }
   },
   "outputs": [
    {
     "name": "stdout",
     "output_type": "stream",
     "text": [
      "created table digging\n",
      "Writing inserts ..................................................Done!\n"
     ]
    }
   ],
   "source": [
    "makeSQLFile('digging')"
   ]
  },
  {
   "cell_type": "code",
   "execution_count": null,
   "metadata": {},
   "outputs": [],
   "source": []
  }
 ],
 "metadata": {
  "celltoolbar": "Slideshow",
  "kernelspec": {
   "display_name": "Python 3",
   "language": "python",
   "name": "python3"
  },
  "language_info": {
   "codemirror_mode": {
    "name": "ipython",
    "version": 3
   },
   "file_extension": ".py",
   "mimetype": "text/x-python",
   "name": "python",
   "nbconvert_exporter": "python",
   "pygments_lexer": "ipython3",
   "version": "3.6.7"
  }
 },
 "nbformat": 4,
 "nbformat_minor": 2
}
